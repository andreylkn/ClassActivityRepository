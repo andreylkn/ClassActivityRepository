{
 "cells": [
  {
   "cell_type": "code",
   "execution_count": null,
   "id": "d54f011e-918e-4af8-9d88-bdd3abe5ac0a",
   "metadata": {},
   "outputs": [],
   "source": [
    "from random import randint"
   ]
  },
  {
   "cell_type": "code",
   "id": "e02fd5e3-2b7e-471a-a87d-815b42ed4b54",
   "metadata": {
    "ExecuteTime": {
     "end_time": "2025-02-02T22:56:59.543698Z",
     "start_time": "2025-02-02T22:56:59.541351Z"
    }
   },
   "source": [
    "# example 1\n",
    "for i in range(1, 21):\n",
    "    if i == 20:\n",
    "        print(f\"You got it!\")\n",
    "\n",
    "# Describe the problem - Write your answers as comments:\n",
    "# 1. what is the loop doing?\n",
    "# 2. When is the function meant to print \"You got it!\"?\n",
    "# 3. What are your assumptions about the value of i?"
   ],
   "outputs": [
    {
     "name": "stdout",
     "output_type": "stream",
     "text": [
      "You got it!\n"
     ]
    }
   ],
   "execution_count": 2
  },
  {
   "cell_type": "code",
   "execution_count": null,
   "id": "c98e40dc-8074-4260-aeeb-261b2b599563",
   "metadata": {},
   "outputs": [],
   "source": []
  },
  {
   "cell_type": "code",
   "id": "8d18a63c-ab13-4a31-942c-be33a1607cda",
   "metadata": {
    "ExecuteTime": {
     "end_time": "2025-02-02T23:18:11.745104Z",
     "start_time": "2025-02-02T23:18:11.742596Z"
    }
   },
   "source": [
    "# example 2\n",
    "import random\n",
    "\n",
    "dice_images = [\"1\", \"2\", \"3\", \"4\", \"5\", \"6\"]\n",
    "dice_num = random.randint(0, 5)\n",
    "print(dice_images[dice_num])"
   ],
   "outputs": [
    {
     "name": "stdout",
     "output_type": "stream",
     "text": [
      "1\n"
     ]
    }
   ],
   "execution_count": 42
  },
  {
   "cell_type": "code",
   "execution_count": null,
   "id": "a865d918-5ee4-4c6a-beda-bbcd2e3ea9fa",
   "metadata": {},
   "outputs": [],
   "source": []
  },
  {
   "cell_type": "code",
   "id": "88ce2963-10bf-42ec-a02f-89811bda74fe",
   "metadata": {
    "ExecuteTime": {
     "end_time": "2025-02-02T23:13:33.466219Z",
     "start_time": "2025-02-02T23:13:28.892952Z"
    }
   },
   "source": [
    "# example 3\n",
    "year = int(input(\"What is your year of birth?\"))\n",
    "\n",
    "if 1981 <= year and year <= 1996:\n",
    "    print(\"You are a Millennial\")\n",
    "elif year > 1996:\n",
    "    print(\"You are a Gen Z\")"
   ],
   "outputs": [],
   "execution_count": 28
  },
  {
   "cell_type": "code",
   "execution_count": null,
   "id": "95197a19-1f0c-49b1-8d98-06f9098eaa91",
   "metadata": {},
   "outputs": [],
   "source": []
  },
  {
   "cell_type": "code",
   "id": "c285fc19-0db3-4af1-bcbe-53bbbeccece4",
   "metadata": {
    "ExecuteTime": {
     "end_time": "2025-02-02T23:07:15.161306Z",
     "start_time": "2025-02-02T23:07:06.422533Z"
    }
   },
   "source": [
    "# example 4\n",
    "pages = int(input(\"Number of pages: \"))\n",
    "word_per_page = int(input(\"Number of words per page: \"))\n",
    "total_words = pages * word_per_page\n",
    "\n",
    "print(f\"We have {total_words} in total.\")"
   ],
   "outputs": [
    {
     "name": "stdout",
     "output_type": "stream",
     "text": [
      "We have 40 in total.\n"
     ]
    }
   ],
   "execution_count": 18
  },
  {
   "cell_type": "code",
   "execution_count": null,
   "id": "a06c6fa2-8fd9-471d-aed7-c76f37704579",
   "metadata": {},
   "outputs": [],
   "source": []
  },
  {
   "cell_type": "code",
   "id": "2effe735-10b3-4966-bb79-fffd2dc5138f",
   "metadata": {
    "ExecuteTime": {
     "end_time": "2025-02-03T00:17:30.872432Z",
     "start_time": "2025-02-03T00:17:30.869114Z"
    }
   },
   "source": [
    "# example 5\n",
    "def add(a1, a2):\n",
    "    return a1 + a2\n",
    "\n",
    "def mutate(a_list):\n",
    "    res1 = []\n",
    "    res2 = []\n",
    "    for item in a_list:\n",
    "        new_item = item * 2\n",
    "        rand_value = random.randint(1, 3)\n",
    "        res1.append(rand_value)\n",
    "        new_item += rand_value\n",
    "        new_item = add(new_item, item)\n",
    "        res2.append(new_item)\n",
    "\n",
    "    return res1, res2"
   ],
   "outputs": [],
   "execution_count": 78
  },
  {
   "cell_type": "code",
   "id": "2f7d32a6-565c-4573-9fb2-6203e69943f9",
   "metadata": {
    "ExecuteTime": {
     "end_time": "2025-02-03T00:17:32.192160Z",
     "start_time": "2025-02-03T00:17:32.188779Z"
    }
   },
   "source": [
    "a_demo_list = [1, 2, 3, 5, 1, 21, 4, 35]\n",
    "res1, res2 = mutate(a_demo_list)\n",
    "\n",
    "print(res1)\n",
    "print(res2)"
   ],
   "outputs": [
    {
     "name": "stdout",
     "output_type": "stream",
     "text": [
      "[1, 3, 2, 1, 2, 2, 3, 3]\n",
      "[4, 9, 11, 16, 5, 65, 15, 108]\n"
     ]
    }
   ],
   "execution_count": 79
  },
  {
   "cell_type": "code",
   "execution_count": null,
   "id": "d4192a55-7ed1-4052-b5ac-3cc3a1c1a7c5",
   "metadata": {},
   "outputs": [],
   "source": []
  },
  {
   "cell_type": "code",
   "execution_count": null,
   "id": "0f6a8d7e-d608-4d89-872f-33b4478ce2d3",
   "metadata": {},
   "outputs": [],
   "source": []
  }
 ],
 "metadata": {
  "kernelspec": {
   "display_name": "Python 3 (ipykernel)",
   "language": "python",
   "name": "python3"
  },
  "language_info": {
   "codemirror_mode": {
    "name": "ipython",
    "version": 3
   },
   "file_extension": ".py",
   "mimetype": "text/x-python",
   "name": "python",
   "nbconvert_exporter": "python",
   "pygments_lexer": "ipython3",
   "version": "3.11.9"
  }
 },
 "nbformat": 4,
 "nbformat_minor": 5
}
