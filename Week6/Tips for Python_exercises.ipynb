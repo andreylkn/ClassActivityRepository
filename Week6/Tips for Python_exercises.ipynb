{
 "cells": [
  {
   "cell_type": "code",
   "execution_count": null,
   "id": "a663efff-02f1-4c45-89e8-5c95d97f2ced",
   "metadata": {},
   "outputs": [],
   "source": []
  },
  {
   "cell_type": "code",
   "execution_count": 1,
   "id": "07bc372e-0bba-42aa-b92f-1821f664976e",
   "metadata": {},
   "outputs": [],
   "source": [
    "# extract information with age greater than 25 from the following list of dictionaries\n",
    "data = [{\"name\": \"Alice\", \"age\": 28}, {\"name\": \"Bob\", \"age\": 24}, {\"name\": \"Charlie\", \"age\": 30}]\n"
   ]
  },
  {
   "cell_type": "code",
   "id": "4d7663b4-e991-43a8-9f44-a37c1ad87b50",
   "metadata": {
    "ExecuteTime": {
     "end_time": "2025-01-20T22:30:31.196759Z",
     "start_time": "2025-01-20T22:30:31.192995Z"
    }
   },
   "source": [
    "# use list comprehension to flatten the matrix\n",
    "matrix = [[1, 2, 3], [4, 5, 6], [7, 8, 9]]\n",
    "\n",
    "list = [n for row in matrix for n in row]\n",
    "list"
   ],
   "outputs": [
    {
     "data": {
      "text/plain": [
       "[1, 2, 3, 4, 5, 6, 7, 8, 9]"
      ]
     },
     "execution_count": 2,
     "metadata": {},
     "output_type": "execute_result"
    }
   ],
   "execution_count": 2
  },
  {
   "cell_type": "code",
   "execution_count": null,
   "id": "40ab8c19-ad6c-4830-90aa-d30da64e2060",
   "metadata": {},
   "outputs": [],
   "source": []
  },
  {
   "cell_type": "code",
   "id": "163bdfe0-c2c9-400c-b221-432f902aea57",
   "metadata": {
    "ExecuteTime": {
     "end_time": "2025-01-20T22:34:38.616869Z",
     "start_time": "2025-01-20T22:34:38.612377Z"
    }
   },
   "source": [
    "# use enumerate() for looping to add 5 extra point to each grade in the list, the 5th one add 10 \n",
    "grades = [88, 92, 78, 65, 50, 94]\n",
    "\n",
    "for i, grade in enumerate(grades):\n",
    "    if i == 4:\n",
    "        grades[i] = grade + 10\n",
    "    else:\n",
    "        grades[i] = grade + 5"
   ],
   "outputs": [],
   "execution_count": 3
  },
  {
   "cell_type": "code",
   "execution_count": 31,
   "id": "cd080518-e3da-4460-806a-9cff1d0bd3d9",
   "metadata": {},
   "outputs": [
    {
     "data": {
      "text/plain": [
       "[93, 97, 83, 70, 60, 99]"
      ]
     },
     "execution_count": 31,
     "metadata": {},
     "output_type": "execute_result"
    }
   ],
   "source": []
  },
  {
   "cell_type": "code",
   "execution_count": null,
   "id": "e7708aba-98ac-462f-ad9d-66472e54b252",
   "metadata": {},
   "outputs": [],
   "source": []
  },
  {
   "cell_type": "code",
   "id": "d069230f-2c5d-4c16-bbf9-576ffa3f7031",
   "metadata": {
    "ExecuteTime": {
     "end_time": "2025-01-20T22:41:25.204748Z",
     "start_time": "2025-01-20T22:41:25.199615Z"
    }
   },
   "source": [
    "# filter out elements depend on their index: \n",
    "# use list comprehension and enumerate() to get elements with even index\n",
    "data = [100, 200, 300, 400, 500]\n",
    "\n",
    "filtered_list = [n for i, n in enumerate(data) if 1 < i < 4]\n",
    "filtered_list"
   ],
   "outputs": [
    {
     "data": {
      "text/plain": [
       "[300, 400]"
      ]
     },
     "execution_count": 10,
     "metadata": {},
     "output_type": "execute_result"
    }
   ],
   "execution_count": 10
  },
  {
   "cell_type": "code",
   "execution_count": null,
   "id": "d7fe199c-57e3-4ece-a93a-3672f2324e12",
   "metadata": {},
   "outputs": [],
   "source": []
  },
  {
   "cell_type": "code",
   "id": "ebdc579d-5829-4204-9814-253753ea6766",
   "metadata": {
    "ExecuteTime": {
     "end_time": "2025-01-20T22:46:59.411470Z",
     "start_time": "2025-01-20T22:46:59.404744Z"
    }
   },
   "source": [
    "# create a dictionary from lists using zip()\n",
    "keys = ['name', 'age', 'grade']\n",
    "values = ['Alice', 25, 'A']\n",
    "\n",
    "dictionary = {key: value for key, value in zip(keys, values)}\n",
    "dictionary"
   ],
   "outputs": [
    {
     "data": {
      "text/plain": [
       "<zip at 0x106df20c0>"
      ]
     },
     "execution_count": 14,
     "metadata": {},
     "output_type": "execute_result"
    }
   ],
   "execution_count": 14
  },
  {
   "cell_type": "code",
   "execution_count": 39,
   "id": "da23c662-0f96-4cd5-957d-736da08cc28e",
   "metadata": {},
   "outputs": [
    {
     "name": "stdout",
     "output_type": "stream",
     "text": [
      "{'name': 'Alice', 'age': 25, 'grade': 'A'}\n"
     ]
    }
   ],
   "source": []
  },
  {
   "cell_type": "code",
   "execution_count": null,
   "id": "26fd8ac3-0074-4d4b-a78c-aad59a418b38",
   "metadata": {},
   "outputs": [],
   "source": []
  },
  {
   "cell_type": "code",
   "id": "96eabba4-1b73-40dd-80ad-de0f45bb4c81",
   "metadata": {
    "ExecuteTime": {
     "end_time": "2025-01-20T23:00:13.695821Z",
     "start_time": "2025-01-20T23:00:13.690275Z"
    }
   },
   "source": [
    "# sort the dictionary based on the ages using lambda\n",
    "students = [\n",
    "    {'name': \"John\", 'grade': \"A\", 'age': 20}, \n",
    "    {'name': \"Jane\", 'grade': \"B\", 'age': 21}, \n",
    "    {'name': \"Joss\", 'grade': \"A+\", 'age': 19}, \n",
    "    {'name': \"Jack\", 'grade': \"A-\", 'age': 16}, \n",
    "    {'name': \"Dave\", 'grade': \"C\", 'age': 25}, \n",
    "]\n",
    "\n",
    "sorted(students, key=lambda student: student['age'])"
   ],
   "outputs": [
    {
     "data": {
      "text/plain": [
       "[{'name': 'Jack', 'grade': 'A-', 'age': 16},\n",
       " {'name': 'Joss', 'grade': 'A+', 'age': 19},\n",
       " {'name': 'John', 'grade': 'A', 'age': 20},\n",
       " {'name': 'Jane', 'grade': 'B', 'age': 21},\n",
       " {'name': 'Dave', 'grade': 'C', 'age': 25}]"
      ]
     },
     "execution_count": 15,
     "metadata": {},
     "output_type": "execute_result"
    }
   ],
   "execution_count": 15
  },
  {
   "cell_type": "code",
   "execution_count": 42,
   "id": "b87aa8ac-d3c2-4897-8a9e-4eea2a63fce7",
   "metadata": {},
   "outputs": [
    {
     "data": {
      "text/plain": [
       "[{'name': 'Jack', 'grade': 'A-', 'age': 16},\n",
       " {'name': 'Joss', 'grade': 'A+', 'age': 19},\n",
       " {'name': 'John', 'grade': 'A', 'age': 20},\n",
       " {'name': 'Jane', 'grade': 'B', 'age': 21},\n",
       " {'name': 'Dave', 'grade': 'C', 'age': 25}]"
      ]
     },
     "execution_count": 42,
     "metadata": {},
     "output_type": "execute_result"
    }
   ],
   "source": []
  },
  {
   "cell_type": "code",
   "execution_count": null,
   "id": "5fb3152c-ae30-4a0b-bd60-df57a7ee1d8f",
   "metadata": {},
   "outputs": [],
   "source": ""
  },
  {
   "cell_type": "code",
   "id": "1332bf19-f03a-4c5b-ac2f-c1fa58c54767",
   "metadata": {
    "ExecuteTime": {
     "end_time": "2025-01-20T23:01:53.334977Z",
     "start_time": "2025-01-20T23:01:53.330402Z"
    }
   },
   "source": [
    "# Sort by age, then by salary if ages are the same\n",
    "# use lambda\n",
    "employees = [\n",
    "    {'name': 'Alice', 'age': 30, 'salary': 80000},\n",
    "    {'name': 'Bob', 'age': 25, 'salary': 50000},\n",
    "    {'name': 'Charlie', 'age': 35, 'salary': 120000},\n",
    "]\n",
    "sorted(employees, key=lambda employee: (employee['salary'], employee['age']))"
   ],
   "outputs": [
    {
     "data": {
      "text/plain": [
       "[{'name': 'Bob', 'age': 25, 'salary': 50000},\n",
       " {'name': 'Alice', 'age': 30, 'salary': 80000},\n",
       " {'name': 'Charlie', 'age': 35, 'salary': 120000}]"
      ]
     },
     "execution_count": 17,
     "metadata": {},
     "output_type": "execute_result"
    }
   ],
   "execution_count": 17
  },
  {
   "cell_type": "code",
   "execution_count": 44,
   "id": "6e99f536-cdd0-4e60-b846-7bb05c41dd6a",
   "metadata": {},
   "outputs": [
    {
     "name": "stdout",
     "output_type": "stream",
     "text": [
      "[{'name': 'Bob', 'age': 25, 'salary': 50000}, {'name': 'Alice', 'age': 30, 'salary': 80000}, {'name': 'Charlie', 'age': 35, 'salary': 120000}]\n"
     ]
    }
   ],
   "source": []
  },
  {
   "cell_type": "code",
   "execution_count": null,
   "id": "dac9b074-5e9a-41f3-bee9-b6d9857e798c",
   "metadata": {},
   "outputs": [],
   "source": []
  },
  {
   "cell_type": "code",
   "execution_count": 45,
   "id": "ad414ac1-a032-4d8e-a8ae-0d8180ffbeb6",
   "metadata": {},
   "outputs": [],
   "source": [
    "# Generators are highly useful in data-heavy applications:\n",
    "\n",
    "# Reading Large Files: Use generators to read large files line by line without loading the entire file into memory.\n",
    "# Data Streaming: Stream data entries for real-time data processing.\n",
    "# Large Calculations: Break down massive calculations into smaller, more manageable chunks."
   ]
  },
  {
   "cell_type": "code",
   "execution_count": null,
   "id": "ed9e15c4-fb82-487b-a20c-66dd903b925c",
   "metadata": {},
   "outputs": [],
   "source": []
  },
  {
   "cell_type": "code",
   "execution_count": null,
   "id": "d82eb6fc-95d7-4f91-b5e3-deef3f5dece6",
   "metadata": {},
   "outputs": [],
   "source": []
  },
  {
   "cell_type": "code",
   "execution_count": null,
   "id": "e65d69a7-a698-4bd6-909d-12c9336ced5e",
   "metadata": {},
   "outputs": [],
   "source": []
  },
  {
   "cell_type": "code",
   "execution_count": null,
   "id": "11256002-68c2-4954-b14f-6822574718f1",
   "metadata": {},
   "outputs": [],
   "source": []
  },
  {
   "cell_type": "code",
   "execution_count": null,
   "id": "34203ad5-da1c-4742-bf73-b611f7e74476",
   "metadata": {},
   "outputs": [],
   "source": []
  }
 ],
 "metadata": {
  "kernelspec": {
   "display_name": "Python 3 (ipykernel)",
   "language": "python",
   "name": "python3"
  },
  "language_info": {
   "codemirror_mode": {
    "name": "ipython",
    "version": 3
   },
   "file_extension": ".py",
   "mimetype": "text/x-python",
   "name": "python",
   "nbconvert_exporter": "python",
   "pygments_lexer": "ipython3",
   "version": "3.11.9"
  }
 },
 "nbformat": 4,
 "nbformat_minor": 5
}
