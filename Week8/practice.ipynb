{
 "cells": [
  {
   "cell_type": "code",
   "id": "initial_id",
   "metadata": {
    "collapsed": true,
    "ExecuteTime": {
     "end_time": "2025-01-27T23:05:03.512365Z",
     "start_time": "2025-01-27T23:05:03.508213Z"
    }
   },
   "source": [
    "from symtable import Class\n",
    "\n",
    "\n",
    "def factorial(n):\n",
    "    if n < 2:\n",
    "        return 1\n",
    "    return n * factorial(n - 1)\n",
    "\n",
    "numbers = [1, 2, 3, 4, 5]\n",
    "res = [factorial(n) for n in numbers]\n",
    "\n",
    "res2 = [1 if n == 0 else (f := 1, [f := f * i for i in range(1, n + 1)], f)[-1] for n in numbers]\n",
    "\n",
    "print(res)\n",
    "print(res2)"
   ],
   "outputs": [
    {
     "name": "stdout",
     "output_type": "stream",
     "text": [
      "[1, 2, 6, 24, 120]\n",
      "[1, 2, 6, 24, 120]\n"
     ]
    }
   ],
   "execution_count": 10
  },
  {
   "metadata": {
    "ExecuteTime": {
     "end_time": "2025-01-27T23:12:35.127066Z",
     "start_time": "2025-01-27T23:12:35.124096Z"
    }
   },
   "cell_type": "code",
   "source": [
    "keys = ['a', 'b', 'c', 'd']\n",
    "values = [1, 2, 3, 4]\n",
    "\n",
    "dictionary1 = {k: v for k, v in zip(keys, values)}\n",
    "dictionary2 = dict(zip(keys, values))\n",
    "\n",
    "print(dictionary1)\n",
    "print(dictionary2)"
   ],
   "id": "9dddec8c858ef1c2",
   "outputs": [
    {
     "name": "stdout",
     "output_type": "stream",
     "text": [
      "{'a': 1, 'b': 2, 'c': 3, 'd': 4}\n",
      "{'a': 1, 'b': 2, 'c': 3, 'd': 4}\n"
     ]
    }
   ],
   "execution_count": 12
  },
  {
   "metadata": {
    "ExecuteTime": {
     "end_time": "2025-01-27T23:20:30.039202Z",
     "start_time": "2025-01-27T23:20:30.036284Z"
    }
   },
   "cell_type": "code",
   "source": [
    "dict1 = {'a': 1, 'b': 2}\n",
    "dict2 = {'c': 3, 'd': 4}\n",
    "\n",
    "merged = {**dict1, **dict2}\n",
    "\n",
    "print(merged)"
   ],
   "id": "79f0913cfd877d29",
   "outputs": [
    {
     "name": "stdout",
     "output_type": "stream",
     "text": [
      "{'a': 1, 'b': 2, 'c': 3, 'd': 4}\n"
     ]
    }
   ],
   "execution_count": 16
  },
  {
   "metadata": {
    "ExecuteTime": {
     "end_time": "2025-01-28T00:03:55.541704Z",
     "start_time": "2025-01-28T00:03:55.530904Z"
    }
   },
   "cell_type": "code",
   "source": [
    "class Singleton:\n",
    "\n",
    "    def __new__(cls):\n",
    "        if not hasattr(cls, \"_instance\"):\n",
    "            cls._instance = super().__new__(cls)\n",
    "\n",
    "        return cls._instance\n",
    "\n",
    "\n",
    "a = Singleton()\n",
    "b = Singleton()\n",
    "\n",
    "print(id(a), id(b))"
   ],
   "id": "a639407be37fb499",
   "outputs": [
    {
     "name": "stdout",
     "output_type": "stream",
     "text": [
      "4361220848 4361220848\n"
     ]
    }
   ],
   "execution_count": 17
  },
  {
   "metadata": {
    "ExecuteTime": {
     "end_time": "2025-01-28T00:12:24.420946Z",
     "start_time": "2025-01-28T00:12:24.416545Z"
    }
   },
   "cell_type": "code",
   "source": [
    "class Class1:\n",
    "    def func1(self):\n",
    "        return 1\n",
    "\n",
    "a = Class1()\n",
    "b = a\n",
    "c = Class1()\n",
    "\n",
    "print(id(a), id(b), id(c))\n"
   ],
   "id": "42f2119d9ad82923",
   "outputs": [
    {
     "name": "stdout",
     "output_type": "stream",
     "text": [
      "4362947952 4362947952 4362945936\n"
     ]
    }
   ],
   "execution_count": 19
  }
 ],
 "metadata": {
  "kernelspec": {
   "display_name": "Python 3",
   "language": "python",
   "name": "python3"
  },
  "language_info": {
   "codemirror_mode": {
    "name": "ipython",
    "version": 2
   },
   "file_extension": ".py",
   "mimetype": "text/x-python",
   "name": "python",
   "nbconvert_exporter": "python",
   "pygments_lexer": "ipython2",
   "version": "2.7.6"
  }
 },
 "nbformat": 4,
 "nbformat_minor": 5
}
